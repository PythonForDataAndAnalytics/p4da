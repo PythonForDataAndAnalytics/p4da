{
 "cells": [
  {
   "cell_type": "markdown",
   "id": "f8a196c7",
   "metadata": {},
   "source": [
    "Python for Data & Analytics<br>\n",
    "Chapter 18, section 5\n",
    "\n",
    "*** requires datafile: emails2.txt"
   ]
  },
  {
   "cell_type": "code",
   "execution_count": 1,
   "id": "eeb77071",
   "metadata": {},
   "outputs": [],
   "source": [
    "# Read the data fi le of emails - 1 line per email, pipe delimited\n",
    "import pandas as pd\n",
    "data = pd.read_csv('emails2.txt', usecols=['isSpam', 'Message'], sep='|')"
   ]
  },
  {
   "cell_type": "code",
   "execution_count": 2,
   "id": "118d5887",
   "metadata": {},
   "outputs": [
    {
     "data": {
      "text/plain": [
       "0    140\n",
       "1    139\n",
       "Name: isSpam, dtype: int64"
      ]
     },
     "execution_count": 2,
     "metadata": {},
     "output_type": "execute_result"
    }
   ],
   "source": [
    "# check how many spam vs. non- spam emails (1=spam)\n",
    "data.isSpam.value_counts()"
   ]
  },
  {
   "cell_type": "code",
   "execution_count": 3,
   "id": "86b25c89",
   "metadata": {},
   "outputs": [
    {
     "data": {
      "text/plain": [
       "\"just to update you on this project ' s status : based on a new report that scott mills ran for me from sitara , i have come up with the following counterparties\""
      ]
     },
     "execution_count": 3,
     "metadata": {},
     "output_type": "execute_result"
    }
   ],
   "source": [
    "# look at an example (non-spam) message\n",
    "data.iloc[0].Message[:160]"
   ]
  },
  {
   "cell_type": "code",
   "execution_count": 4,
   "id": "918d4aba",
   "metadata": {},
   "outputs": [],
   "source": [
    "# take out non-letters\n",
    "def nonletterRemover(text):\n",
    "   alist = [c if c.isalpha() else ' ' for c in text]\n",
    "   return ''.join(alist)\n",
    "data['Message2'] = data['Message'].apply(nonletterRemover)"
   ]
  },
  {
   "cell_type": "code",
   "execution_count": 5,
   "id": "0160cd87",
   "metadata": {},
   "outputs": [],
   "source": [
    "# tokenize\n",
    "from nltk.tokenize import word_tokenize\n",
    "tokenizer = lambda text: word_tokenize(text)\n",
    "data['Message2'] = data['Message2'].apply(tokenizer)"
   ]
  },
  {
   "cell_type": "code",
   "execution_count": 6,
   "id": "ea19b23d",
   "metadata": {},
   "outputs": [],
   "source": [
    "# apply Porter Stemmer\n",
    "from nltk import PorterStemmer\n",
    "porterStemmer = PorterStemmer()\n",
    "stemmer = lambda words: [ porterStemmer.stem(word) for word in words ]\n",
    "data['Message2'] = data['Message2'].apply(stemmer)"
   ]
  },
  {
   "cell_type": "code",
   "execution_count": 7,
   "id": "4cdfb6f3",
   "metadata": {},
   "outputs": [],
   "source": [
    "# rejoin text\n",
    "rejoiner = lambda words: ' '.join(words)\n",
    "data['Message2'] = data['Message2'].apply(rejoiner)"
   ]
  },
  {
   "cell_type": "code",
   "execution_count": 8,
   "id": "639d99fd",
   "metadata": {},
   "outputs": [
    {
     "data": {
      "text/html": [
       "<div>\n",
       "<style scoped>\n",
       "    .dataframe tbody tr th:only-of-type {\n",
       "        vertical-align: middle;\n",
       "    }\n",
       "\n",
       "    .dataframe tbody tr th {\n",
       "        vertical-align: top;\n",
       "    }\n",
       "\n",
       "    .dataframe thead th {\n",
       "        text-align: right;\n",
       "    }\n",
       "</style>\n",
       "<table border=\"1\" class=\"dataframe\">\n",
       "  <thead>\n",
       "    <tr style=\"text-align: right;\">\n",
       "      <th></th>\n",
       "      <th>isSpam</th>\n",
       "      <th>Message</th>\n",
       "      <th>Message2</th>\n",
       "    </tr>\n",
       "  </thead>\n",
       "  <tbody>\n",
       "    <tr>\n",
       "      <th>0</th>\n",
       "      <td>0</td>\n",
       "      <td>just to update you on this project ' s status ...</td>\n",
       "      <td>just to updat you on thi project s statu base ...</td>\n",
       "    </tr>\n",
       "    <tr>\n",
       "      <th>1</th>\n",
       "      <td>0</td>\n",
       "      <td>the above referenced meters need to be placed ...</td>\n",
       "      <td>the abov referenc meter need to be place on a ...</td>\n",
       "    </tr>\n",
       "    <tr>\n",
       "      <th>2</th>\n",
       "      <td>0</td>\n",
       "      <td>( see attached file : hpll 228 . xls ) - hpll ...</td>\n",
       "      <td>see attach file hpll xl hpll xl</td>\n",
       "    </tr>\n",
       "    <tr>\n",
       "      <th>3</th>\n",
       "      <td>0</td>\n",
       "      <td>daren , it ' s in . bob - - - - - - - - - - - ...</td>\n",
       "      <td>daren it s in bob forward by robert cotten hou...</td>\n",
       "    </tr>\n",
       "    <tr>\n",
       "      <th>4</th>\n",
       "      <td>0</td>\n",
       "      <td>daren , fyi . bob - - - - - - - - - - - - - - ...</td>\n",
       "      <td>daren fyi bob forward by robert cotten hou ect...</td>\n",
       "    </tr>\n",
       "  </tbody>\n",
       "</table>\n",
       "</div>"
      ],
      "text/plain": [
       "   isSpam                                            Message  \\\n",
       "0       0  just to update you on this project ' s status ...   \n",
       "1       0  the above referenced meters need to be placed ...   \n",
       "2       0  ( see attached file : hpll 228 . xls ) - hpll ...   \n",
       "3       0  daren , it ' s in . bob - - - - - - - - - - - ...   \n",
       "4       0  daren , fyi . bob - - - - - - - - - - - - - - ...   \n",
       "\n",
       "                                            Message2  \n",
       "0  just to updat you on thi project s statu base ...  \n",
       "1  the abov referenc meter need to be place on a ...  \n",
       "2                    see attach file hpll xl hpll xl  \n",
       "3  daren it s in bob forward by robert cotten hou...  \n",
       "4  daren fyi bob forward by robert cotten hou ect...  "
      ]
     },
     "execution_count": 8,
     "metadata": {},
     "output_type": "execute_result"
    }
   ],
   "source": [
    "# compare the initial and transformed text for a few non-spam messages\n",
    "data.head()"
   ]
  },
  {
   "cell_type": "code",
   "execution_count": 9,
   "id": "d60a302a",
   "metadata": {},
   "outputs": [
    {
     "data": {
      "text/html": [
       "<div>\n",
       "<style scoped>\n",
       "    .dataframe tbody tr th:only-of-type {\n",
       "        vertical-align: middle;\n",
       "    }\n",
       "\n",
       "    .dataframe tbody tr th {\n",
       "        vertical-align: top;\n",
       "    }\n",
       "\n",
       "    .dataframe thead th {\n",
       "        text-align: right;\n",
       "    }\n",
       "</style>\n",
       "<table border=\"1\" class=\"dataframe\">\n",
       "  <thead>\n",
       "    <tr style=\"text-align: right;\">\n",
       "      <th></th>\n",
       "      <th>isSpam</th>\n",
       "      <th>Message</th>\n",
       "      <th>Message2</th>\n",
       "    </tr>\n",
       "  </thead>\n",
       "  <tbody>\n",
       "    <tr>\n",
       "      <th>274</th>\n",
       "      <td>1</td>\n",
       "      <td>we have very compet itive pricing on hundreds ...</td>\n",
       "      <td>we have veri compet itiv price on hundr of the...</td>\n",
       "    </tr>\n",
       "    <tr>\n",
       "      <th>275</th>\n",
       "      <td>1</td>\n",
       "      <td>good day , your application has been pre - app...</td>\n",
       "      <td>good day your applic ha been pre approv on thu...</td>\n",
       "    </tr>\n",
       "    <tr>\n",
       "      <th>276</th>\n",
       "      <td>1</td>\n",
       "      <td>dear sir or madam , would you refinance if you...</td>\n",
       "      <td>dear sir or madam would you refin if you knew ...</td>\n",
       "    </tr>\n",
       "    <tr>\n",
       "      <th>277</th>\n",
       "      <td>1</td>\n",
       "      <td>size = 1 &gt; order confirmation . your order sho...</td>\n",
       "      <td>size order confirm your order should be ship b...</td>\n",
       "    </tr>\n",
       "    <tr>\n",
       "      <th>278</th>\n",
       "      <td>1</td>\n",
       "      <td>if you ' re tired of traffic lights , speed ca...</td>\n",
       "      <td>if you re tire of traffic light speed camera a...</td>\n",
       "    </tr>\n",
       "  </tbody>\n",
       "</table>\n",
       "</div>"
      ],
      "text/plain": [
       "     isSpam                                            Message  \\\n",
       "274       1  we have very compet itive pricing on hundreds ...   \n",
       "275       1  good day , your application has been pre - app...   \n",
       "276       1  dear sir or madam , would you refinance if you...   \n",
       "277       1  size = 1 > order confirmation . your order sho...   \n",
       "278       1  if you ' re tired of traffic lights , speed ca...   \n",
       "\n",
       "                                              Message2  \n",
       "274  we have veri compet itiv price on hundr of the...  \n",
       "275  good day your applic ha been pre approv on thu...  \n",
       "276  dear sir or madam would you refin if you knew ...  \n",
       "277  size order confirm your order should be ship b...  \n",
       "278  if you re tire of traffic light speed camera a...  "
      ]
     },
     "execution_count": 9,
     "metadata": {},
     "output_type": "execute_result"
    }
   ],
   "source": [
    "# compare the initial and transformed text for a few spam messages\n",
    "data.tail()"
   ]
  },
  {
   "cell_type": "code",
   "execution_count": 10,
   "id": "3eb0d1f0",
   "metadata": {},
   "outputs": [],
   "source": [
    "# split to 25% test data and 75% train data\n",
    "# isSpam is the dependent variable, Message2 is the independent variable\n",
    "from sklearn.model_selection import train_test_split\n",
    "train_text, test_text, train_labels, test_labels = \\\n",
    " train_test_split(data.Message2, data.isSpam, test_size=0.25, random_state=1)"
   ]
  },
  {
   "cell_type": "code",
   "execution_count": 11,
   "id": "33645c65",
   "metadata": {},
   "outputs": [
    {
     "data": {
      "text/plain": [
       "227    1\n",
       "264    1\n",
       "147    1\n",
       "230    1\n",
       "266    1\n",
       "      ..\n",
       "203    1\n",
       "255    1\n",
       "72     0\n",
       "235    1\n",
       "37     0\n",
       "Name: isSpam, Length: 209, dtype: int64"
      ]
     },
     "execution_count": 11,
     "metadata": {},
     "output_type": "execute_result"
    }
   ],
   "source": [
    "train_labels"
   ]
  },
  {
   "cell_type": "code",
   "execution_count": 12,
   "id": "dbe0079a",
   "metadata": {},
   "outputs": [],
   "source": [
    "# build bag of words features vectorizer and get features\n",
    "from sklearn.feature_extraction.text import CountVectorizer\n",
    "bow_vectorizer = CountVectorizer(min_df=1, ngram_range=(1,1))\n",
    "bow_train_features = bow_vectorizer.fit_transform(train_text)\n",
    "bow_test_features = bow_vectorizer.transform(test_text)"
   ]
  },
  {
   "cell_type": "code",
   "execution_count": 13,
   "id": "c6d877e7",
   "metadata": {},
   "outputs": [
    {
     "data": {
      "text/plain": [
       "MultinomialNB()"
      ]
     },
     "execution_count": 13,
     "metadata": {},
     "output_type": "execute_result"
    }
   ],
   "source": [
    "from sklearn.naive_bayes import MultinomialNB # import naive bayes\n",
    "model = MultinomialNB()\n",
    "model.fit(bow_train_features, train_labels)"
   ]
  },
  {
   "cell_type": "code",
   "execution_count": 14,
   "id": "6c399787",
   "metadata": {},
   "outputs": [],
   "source": [
    "# predict using model\n",
    "predictions = model.predict(bow_test_features)"
   ]
  },
  {
   "cell_type": "code",
   "execution_count": 15,
   "id": "a3ecd6dc",
   "metadata": {},
   "outputs": [
    {
     "data": {
      "text/plain": [
       "70"
      ]
     },
     "execution_count": 15,
     "metadata": {},
     "output_type": "execute_result"
    }
   ],
   "source": [
    "# number of emails in the test data\n",
    "len(test_labels)"
   ]
  },
  {
   "cell_type": "code",
   "execution_count": 16,
   "id": "61980fa2",
   "metadata": {},
   "outputs": [
    {
     "data": {
      "text/html": [
       "<div>\n",
       "<style scoped>\n",
       "    .dataframe tbody tr th:only-of-type {\n",
       "        vertical-align: middle;\n",
       "    }\n",
       "\n",
       "    .dataframe tbody tr th {\n",
       "        vertical-align: top;\n",
       "    }\n",
       "\n",
       "    .dataframe thead th {\n",
       "        text-align: right;\n",
       "    }\n",
       "</style>\n",
       "<table border=\"1\" class=\"dataframe\">\n",
       "  <thead>\n",
       "    <tr style=\"text-align: right;\">\n",
       "      <th></th>\n",
       "      <th>actual</th>\n",
       "      <th>predict</th>\n",
       "    </tr>\n",
       "  </thead>\n",
       "  <tbody>\n",
       "    <tr>\n",
       "      <th>0</th>\n",
       "      <td>0</td>\n",
       "      <td>1</td>\n",
       "    </tr>\n",
       "    <tr>\n",
       "      <th>1</th>\n",
       "      <td>1</td>\n",
       "      <td>1</td>\n",
       "    </tr>\n",
       "    <tr>\n",
       "      <th>2</th>\n",
       "      <td>1</td>\n",
       "      <td>1</td>\n",
       "    </tr>\n",
       "    <tr>\n",
       "      <th>3</th>\n",
       "      <td>1</td>\n",
       "      <td>1</td>\n",
       "    </tr>\n",
       "    <tr>\n",
       "      <th>4</th>\n",
       "      <td>1</td>\n",
       "      <td>1</td>\n",
       "    </tr>\n",
       "    <tr>\n",
       "      <th>...</th>\n",
       "      <td>...</td>\n",
       "      <td>...</td>\n",
       "    </tr>\n",
       "    <tr>\n",
       "      <th>65</th>\n",
       "      <td>0</td>\n",
       "      <td>0</td>\n",
       "    </tr>\n",
       "    <tr>\n",
       "      <th>66</th>\n",
       "      <td>0</td>\n",
       "      <td>0</td>\n",
       "    </tr>\n",
       "    <tr>\n",
       "      <th>67</th>\n",
       "      <td>0</td>\n",
       "      <td>0</td>\n",
       "    </tr>\n",
       "    <tr>\n",
       "      <th>68</th>\n",
       "      <td>0</td>\n",
       "      <td>0</td>\n",
       "    </tr>\n",
       "    <tr>\n",
       "      <th>69</th>\n",
       "      <td>1</td>\n",
       "      <td>1</td>\n",
       "    </tr>\n",
       "  </tbody>\n",
       "</table>\n",
       "<p>70 rows × 2 columns</p>\n",
       "</div>"
      ],
      "text/plain": [
       "    actual  predict\n",
       "0        0        1\n",
       "1        1        1\n",
       "2        1        1\n",
       "3        1        1\n",
       "4        1        1\n",
       "..     ...      ...\n",
       "65       0        0\n",
       "66       0        0\n",
       "67       0        0\n",
       "68       0        0\n",
       "69       1        1\n",
       "\n",
       "[70 rows x 2 columns]"
      ]
     },
     "execution_count": 16,
     "metadata": {},
     "output_type": "execute_result"
    }
   ],
   "source": [
    "test_results = \\\n",
    "   pd.DataFrame({'actual':test_labels.tolist(), 'predict':list(predictions)})\n",
    "test_results"
   ]
  },
  {
   "cell_type": "code",
   "execution_count": 17,
   "id": "f6f75ed2",
   "metadata": {},
   "outputs": [
    {
     "data": {
      "text/html": [
       "<div>\n",
       "<style scoped>\n",
       "    .dataframe tbody tr th:only-of-type {\n",
       "        vertical-align: middle;\n",
       "    }\n",
       "\n",
       "    .dataframe tbody tr th {\n",
       "        vertical-align: top;\n",
       "    }\n",
       "\n",
       "    .dataframe thead th {\n",
       "        text-align: right;\n",
       "    }\n",
       "</style>\n",
       "<table border=\"1\" class=\"dataframe\">\n",
       "  <thead>\n",
       "    <tr style=\"text-align: right;\">\n",
       "      <th></th>\n",
       "      <th>actual</th>\n",
       "      <th>predict</th>\n",
       "    </tr>\n",
       "  </thead>\n",
       "  <tbody>\n",
       "    <tr>\n",
       "      <th>0</th>\n",
       "      <td>0</td>\n",
       "      <td>1</td>\n",
       "    </tr>\n",
       "    <tr>\n",
       "      <th>24</th>\n",
       "      <td>0</td>\n",
       "      <td>1</td>\n",
       "    </tr>\n",
       "    <tr>\n",
       "      <th>36</th>\n",
       "      <td>1</td>\n",
       "      <td>0</td>\n",
       "    </tr>\n",
       "    <tr>\n",
       "      <th>53</th>\n",
       "      <td>0</td>\n",
       "      <td>1</td>\n",
       "    </tr>\n",
       "  </tbody>\n",
       "</table>\n",
       "</div>"
      ],
      "text/plain": [
       "    actual  predict\n",
       "0        0        1\n",
       "24       0        1\n",
       "36       1        0\n",
       "53       0        1"
      ]
     },
     "execution_count": 17,
     "metadata": {},
     "output_type": "execute_result"
    }
   ],
   "source": [
    "test_results[test_results.actual != test_results.predict]"
   ]
  },
  {
   "cell_type": "code",
   "execution_count": 18,
   "id": "ca4aa894",
   "metadata": {},
   "outputs": [
    {
     "data": {
      "text/plain": [
       "array([[33,  3],\n",
       "       [ 1, 33]])"
      ]
     },
     "execution_count": 18,
     "metadata": {},
     "output_type": "execute_result"
    }
   ],
   "source": [
    "# check accuracy using confusion matrix\n",
    "from sklearn import metrics\n",
    "metrics.confusion_matrix(test_labels, predictions)"
   ]
  },
  {
   "cell_type": "markdown",
   "id": "8ba62333",
   "metadata": {},
   "source": [
    "Code from: Python for Data & Analytics, (c) 2023 Rose River Software, LLC"
   ]
  }
 ],
 "metadata": {
  "colab": {
   "name": "p4da-18-5.ipynb",
   "provenance": []
  },
  "kernelspec": {
   "display_name": "Python 3 (ipykernel)",
   "language": "python",
   "name": "python3"
  },
  "language_info": {
   "codemirror_mode": {
    "name": "ipython",
    "version": 3
   },
   "file_extension": ".py",
   "mimetype": "text/x-python",
   "name": "python",
   "nbconvert_exporter": "python",
   "pygments_lexer": "ipython3",
   "version": "3.9.7"
  }
 },
 "nbformat": 4,
 "nbformat_minor": 5
}
