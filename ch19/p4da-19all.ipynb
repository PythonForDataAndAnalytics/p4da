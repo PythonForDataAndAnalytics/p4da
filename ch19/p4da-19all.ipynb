{
 "cells": [
  {
   "cell_type": "markdown",
   "id": "f8a196c7",
   "metadata": {},
   "source": [
    "Python for Data & Analytics<br>\n",
    "Chapter 19\n",
    "\n",
    "*** requires datafiles: customers.csv, status.csv"
   ]
  },
  {
   "cell_type": "markdown",
   "id": "c526f1b9",
   "metadata": {},
   "source": [
    "19.2 Data Preparation"
   ]
  },
  {
   "cell_type": "code",
   "execution_count": 1,
   "id": "eeb77071",
   "metadata": {},
   "outputs": [
    {
     "data": {
      "text/html": [
       "<div>\n",
       "<style scoped>\n",
       "    .dataframe tbody tr th:only-of-type {\n",
       "        vertical-align: middle;\n",
       "    }\n",
       "\n",
       "    .dataframe tbody tr th {\n",
       "        vertical-align: top;\n",
       "    }\n",
       "\n",
       "    .dataframe thead th {\n",
       "        text-align: right;\n",
       "    }\n",
       "</style>\n",
       "<table border=\"1\" class=\"dataframe\">\n",
       "  <thead>\n",
       "    <tr style=\"text-align: right;\">\n",
       "      <th></th>\n",
       "      <th>gender</th>\n",
       "      <th>married</th>\n",
       "      <th>age</th>\n",
       "      <th>service</th>\n",
       "      <th>contract</th>\n",
       "      <th>billing</th>\n",
       "      <th>due</th>\n",
       "    </tr>\n",
       "    <tr>\n",
       "      <th>#</th>\n",
       "      <th></th>\n",
       "      <th></th>\n",
       "      <th></th>\n",
       "      <th></th>\n",
       "      <th></th>\n",
       "      <th></th>\n",
       "      <th></th>\n",
       "    </tr>\n",
       "  </thead>\n",
       "  <tbody>\n",
       "    <tr>\n",
       "      <th>1</th>\n",
       "      <td>f</td>\n",
       "      <td>m</td>\n",
       "      <td>49</td>\n",
       "      <td>p</td>\n",
       "      <td>n</td>\n",
       "      <td>a</td>\n",
       "      <td>0</td>\n",
       "    </tr>\n",
       "    <tr>\n",
       "      <th>2</th>\n",
       "      <td>f</td>\n",
       "      <td>m</td>\n",
       "      <td>19</td>\n",
       "      <td>p</td>\n",
       "      <td>n</td>\n",
       "      <td>c</td>\n",
       "      <td>0</td>\n",
       "    </tr>\n",
       "    <tr>\n",
       "      <th>3</th>\n",
       "      <td>m</td>\n",
       "      <td>m</td>\n",
       "      <td>53</td>\n",
       "      <td>p</td>\n",
       "      <td>y</td>\n",
       "      <td>a</td>\n",
       "      <td>1</td>\n",
       "    </tr>\n",
       "    <tr>\n",
       "      <th>4</th>\n",
       "      <td>f</td>\n",
       "      <td>m</td>\n",
       "      <td>64</td>\n",
       "      <td>g</td>\n",
       "      <td>y</td>\n",
       "      <td>a</td>\n",
       "      <td>1</td>\n",
       "    </tr>\n",
       "    <tr>\n",
       "      <th>5</th>\n",
       "      <td>f</td>\n",
       "      <td>s</td>\n",
       "      <td>47</td>\n",
       "      <td>b</td>\n",
       "      <td>n</td>\n",
       "      <td>a</td>\n",
       "      <td>0</td>\n",
       "    </tr>\n",
       "  </tbody>\n",
       "</table>\n",
       "</div>"
      ],
      "text/plain": [
       "  gender married  age service contract billing  due\n",
       "#                                                  \n",
       "1      f       m   49       p        n       a    0\n",
       "2      f       m   19       p        n       c    0\n",
       "3      m       m   53       p        y       a    1\n",
       "4      f       m   64       g        y       a    1\n",
       "5      f       s   47       b        n       a    0"
      ]
     },
     "execution_count": 1,
     "metadata": {},
     "output_type": "execute_result"
    }
   ],
   "source": [
    "import pandas as pd\n",
    "customers = pd.read_csv('customers.csv', index_col='#')\n",
    "customers.head()"
   ]
  },
  {
   "cell_type": "code",
   "execution_count": 2,
   "id": "bd06edea",
   "metadata": {},
   "outputs": [
    {
     "data": {
      "text/html": [
       "<div>\n",
       "<style scoped>\n",
       "    .dataframe tbody tr th:only-of-type {\n",
       "        vertical-align: middle;\n",
       "    }\n",
       "\n",
       "    .dataframe tbody tr th {\n",
       "        vertical-align: top;\n",
       "    }\n",
       "\n",
       "    .dataframe thead th {\n",
       "        text-align: right;\n",
       "    }\n",
       "</style>\n",
       "<table border=\"1\" class=\"dataframe\">\n",
       "  <thead>\n",
       "    <tr style=\"text-align: right;\">\n",
       "      <th></th>\n",
       "      <th>churn</th>\n",
       "    </tr>\n",
       "    <tr>\n",
       "      <th>#</th>\n",
       "      <th></th>\n",
       "    </tr>\n",
       "  </thead>\n",
       "  <tbody>\n",
       "    <tr>\n",
       "      <th>1</th>\n",
       "      <td>0</td>\n",
       "    </tr>\n",
       "    <tr>\n",
       "      <th>2</th>\n",
       "      <td>0</td>\n",
       "    </tr>\n",
       "    <tr>\n",
       "      <th>3</th>\n",
       "      <td>1</td>\n",
       "    </tr>\n",
       "    <tr>\n",
       "      <th>4</th>\n",
       "      <td>1</td>\n",
       "    </tr>\n",
       "    <tr>\n",
       "      <th>5</th>\n",
       "      <td>1</td>\n",
       "    </tr>\n",
       "  </tbody>\n",
       "</table>\n",
       "</div>"
      ],
      "text/plain": [
       "   churn\n",
       "#       \n",
       "1      0\n",
       "2      0\n",
       "3      1\n",
       "4      1\n",
       "5      1"
      ]
     },
     "execution_count": 2,
     "metadata": {},
     "output_type": "execute_result"
    }
   ],
   "source": [
    "status = pd.read_csv('status.csv', index_col='#')\n",
    "status.head()"
   ]
  },
  {
   "cell_type": "code",
   "execution_count": 3,
   "id": "822a5d3d",
   "metadata": {},
   "outputs": [
    {
     "data": {
      "text/html": [
       "<div>\n",
       "<style scoped>\n",
       "    .dataframe tbody tr th:only-of-type {\n",
       "        vertical-align: middle;\n",
       "    }\n",
       "\n",
       "    .dataframe tbody tr th {\n",
       "        vertical-align: top;\n",
       "    }\n",
       "\n",
       "    .dataframe thead th {\n",
       "        text-align: right;\n",
       "    }\n",
       "</style>\n",
       "<table border=\"1\" class=\"dataframe\">\n",
       "  <thead>\n",
       "    <tr style=\"text-align: right;\">\n",
       "      <th></th>\n",
       "      <th>gender</th>\n",
       "      <th>married</th>\n",
       "      <th>age</th>\n",
       "      <th>service</th>\n",
       "      <th>contract</th>\n",
       "      <th>billing</th>\n",
       "      <th>due</th>\n",
       "      <th>churn</th>\n",
       "    </tr>\n",
       "    <tr>\n",
       "      <th>#</th>\n",
       "      <th></th>\n",
       "      <th></th>\n",
       "      <th></th>\n",
       "      <th></th>\n",
       "      <th></th>\n",
       "      <th></th>\n",
       "      <th></th>\n",
       "      <th></th>\n",
       "    </tr>\n",
       "  </thead>\n",
       "  <tbody>\n",
       "    <tr>\n",
       "      <th>1</th>\n",
       "      <td>f</td>\n",
       "      <td>m</td>\n",
       "      <td>49</td>\n",
       "      <td>p</td>\n",
       "      <td>n</td>\n",
       "      <td>a</td>\n",
       "      <td>0</td>\n",
       "      <td>0</td>\n",
       "    </tr>\n",
       "    <tr>\n",
       "      <th>2</th>\n",
       "      <td>f</td>\n",
       "      <td>m</td>\n",
       "      <td>19</td>\n",
       "      <td>p</td>\n",
       "      <td>n</td>\n",
       "      <td>c</td>\n",
       "      <td>0</td>\n",
       "      <td>0</td>\n",
       "    </tr>\n",
       "    <tr>\n",
       "      <th>3</th>\n",
       "      <td>m</td>\n",
       "      <td>m</td>\n",
       "      <td>53</td>\n",
       "      <td>p</td>\n",
       "      <td>y</td>\n",
       "      <td>a</td>\n",
       "      <td>1</td>\n",
       "      <td>1</td>\n",
       "    </tr>\n",
       "    <tr>\n",
       "      <th>4</th>\n",
       "      <td>f</td>\n",
       "      <td>m</td>\n",
       "      <td>64</td>\n",
       "      <td>g</td>\n",
       "      <td>y</td>\n",
       "      <td>a</td>\n",
       "      <td>1</td>\n",
       "      <td>1</td>\n",
       "    </tr>\n",
       "    <tr>\n",
       "      <th>5</th>\n",
       "      <td>f</td>\n",
       "      <td>s</td>\n",
       "      <td>47</td>\n",
       "      <td>b</td>\n",
       "      <td>n</td>\n",
       "      <td>a</td>\n",
       "      <td>0</td>\n",
       "      <td>1</td>\n",
       "    </tr>\n",
       "  </tbody>\n",
       "</table>\n",
       "</div>"
      ],
      "text/plain": [
       "  gender married  age service contract billing  due  churn\n",
       "#                                                         \n",
       "1      f       m   49       p        n       a    0      0\n",
       "2      f       m   19       p        n       c    0      0\n",
       "3      m       m   53       p        y       a    1      1\n",
       "4      f       m   64       g        y       a    1      1\n",
       "5      f       s   47       b        n       a    0      1"
      ]
     },
     "execution_count": 3,
     "metadata": {},
     "output_type": "execute_result"
    }
   ],
   "source": [
    "customers = customers.join(status)\n",
    "customers.head()"
   ]
  },
  {
   "cell_type": "code",
   "execution_count": 4,
   "id": "777487a0",
   "metadata": {},
   "outputs": [
    {
     "data": {
      "text/plain": [
       "10000"
      ]
     },
     "execution_count": 4,
     "metadata": {},
     "output_type": "execute_result"
    }
   ],
   "source": [
    "len(customers)"
   ]
  },
  {
   "cell_type": "code",
   "execution_count": 5,
   "id": "9c027337",
   "metadata": {},
   "outputs": [
    {
     "data": {
      "text/html": [
       "<div>\n",
       "<style scoped>\n",
       "    .dataframe tbody tr th:only-of-type {\n",
       "        vertical-align: middle;\n",
       "    }\n",
       "\n",
       "    .dataframe tbody tr th {\n",
       "        vertical-align: top;\n",
       "    }\n",
       "\n",
       "    .dataframe thead th {\n",
       "        text-align: right;\n",
       "    }\n",
       "</style>\n",
       "<table border=\"1\" class=\"dataframe\">\n",
       "  <thead>\n",
       "    <tr style=\"text-align: right;\">\n",
       "      <th></th>\n",
       "      <th>gender</th>\n",
       "      <th>married</th>\n",
       "      <th>age</th>\n",
       "      <th>service</th>\n",
       "      <th>contract</th>\n",
       "      <th>billing</th>\n",
       "      <th>due</th>\n",
       "      <th>churn</th>\n",
       "      <th>gender_binary</th>\n",
       "      <th>married_binary</th>\n",
       "      <th>contract_binary</th>\n",
       "      <th>billing_binary</th>\n",
       "    </tr>\n",
       "    <tr>\n",
       "      <th>#</th>\n",
       "      <th></th>\n",
       "      <th></th>\n",
       "      <th></th>\n",
       "      <th></th>\n",
       "      <th></th>\n",
       "      <th></th>\n",
       "      <th></th>\n",
       "      <th></th>\n",
       "      <th></th>\n",
       "      <th></th>\n",
       "      <th></th>\n",
       "      <th></th>\n",
       "    </tr>\n",
       "  </thead>\n",
       "  <tbody>\n",
       "    <tr>\n",
       "      <th>1</th>\n",
       "      <td>f</td>\n",
       "      <td>m</td>\n",
       "      <td>49</td>\n",
       "      <td>p</td>\n",
       "      <td>n</td>\n",
       "      <td>a</td>\n",
       "      <td>0</td>\n",
       "      <td>0</td>\n",
       "      <td>1</td>\n",
       "      <td>1</td>\n",
       "      <td>0</td>\n",
       "      <td>1</td>\n",
       "    </tr>\n",
       "    <tr>\n",
       "      <th>2</th>\n",
       "      <td>f</td>\n",
       "      <td>m</td>\n",
       "      <td>19</td>\n",
       "      <td>p</td>\n",
       "      <td>n</td>\n",
       "      <td>c</td>\n",
       "      <td>0</td>\n",
       "      <td>0</td>\n",
       "      <td>1</td>\n",
       "      <td>1</td>\n",
       "      <td>0</td>\n",
       "      <td>0</td>\n",
       "    </tr>\n",
       "    <tr>\n",
       "      <th>3</th>\n",
       "      <td>m</td>\n",
       "      <td>m</td>\n",
       "      <td>53</td>\n",
       "      <td>p</td>\n",
       "      <td>y</td>\n",
       "      <td>a</td>\n",
       "      <td>1</td>\n",
       "      <td>1</td>\n",
       "      <td>0</td>\n",
       "      <td>1</td>\n",
       "      <td>1</td>\n",
       "      <td>1</td>\n",
       "    </tr>\n",
       "    <tr>\n",
       "      <th>4</th>\n",
       "      <td>f</td>\n",
       "      <td>m</td>\n",
       "      <td>64</td>\n",
       "      <td>g</td>\n",
       "      <td>y</td>\n",
       "      <td>a</td>\n",
       "      <td>1</td>\n",
       "      <td>1</td>\n",
       "      <td>1</td>\n",
       "      <td>1</td>\n",
       "      <td>1</td>\n",
       "      <td>1</td>\n",
       "    </tr>\n",
       "    <tr>\n",
       "      <th>5</th>\n",
       "      <td>f</td>\n",
       "      <td>s</td>\n",
       "      <td>47</td>\n",
       "      <td>b</td>\n",
       "      <td>n</td>\n",
       "      <td>a</td>\n",
       "      <td>0</td>\n",
       "      <td>1</td>\n",
       "      <td>1</td>\n",
       "      <td>0</td>\n",
       "      <td>0</td>\n",
       "      <td>1</td>\n",
       "    </tr>\n",
       "  </tbody>\n",
       "</table>\n",
       "</div>"
      ],
      "text/plain": [
       "  gender married  age service contract billing  due  churn  gender_binary  \\\n",
       "#                                                                           \n",
       "1      f       m   49       p        n       a    0      0              1   \n",
       "2      f       m   19       p        n       c    0      0              1   \n",
       "3      m       m   53       p        y       a    1      1              0   \n",
       "4      f       m   64       g        y       a    1      1              1   \n",
       "5      f       s   47       b        n       a    0      1              1   \n",
       "\n",
       "   married_binary  contract_binary  billing_binary  \n",
       "#                                                   \n",
       "1               1                0               1  \n",
       "2               1                0               0  \n",
       "3               1                1               1  \n",
       "4               1                1               1  \n",
       "5               0                0               1  "
      ]
     },
     "execution_count": 5,
     "metadata": {},
     "output_type": "execute_result"
    }
   ],
   "source": [
    "customers['gender_binary'] = customers.gender.map( {'m':0, 'f':1})\n",
    "customers['married_binary'] = customers.married.map( {'s':0, 'm':1})\n",
    "customers['contract_binary'] = customers.contract.map({'n':0, 'y':1})\n",
    "customers['billing_binary'] = customers.billing.map( {'c':0, 'a':1})\n",
    "customers.head()"
   ]
  },
  {
   "cell_type": "code",
   "execution_count": 6,
   "id": "a2f2e0f9",
   "metadata": {},
   "outputs": [
    {
     "data": {
      "text/html": [
       "<div>\n",
       "<style scoped>\n",
       "    .dataframe tbody tr th:only-of-type {\n",
       "        vertical-align: middle;\n",
       "    }\n",
       "\n",
       "    .dataframe tbody tr th {\n",
       "        vertical-align: top;\n",
       "    }\n",
       "\n",
       "    .dataframe thead th {\n",
       "        text-align: right;\n",
       "    }\n",
       "</style>\n",
       "<table border=\"1\" class=\"dataframe\">\n",
       "  <thead>\n",
       "    <tr style=\"text-align: right;\">\n",
       "      <th></th>\n",
       "      <th>service</th>\n",
       "      <th>service_premium_binary</th>\n",
       "      <th>service_gold_binary</th>\n",
       "    </tr>\n",
       "    <tr>\n",
       "      <th>#</th>\n",
       "      <th></th>\n",
       "      <th></th>\n",
       "      <th></th>\n",
       "    </tr>\n",
       "  </thead>\n",
       "  <tbody>\n",
       "    <tr>\n",
       "      <th>1</th>\n",
       "      <td>p</td>\n",
       "      <td>1</td>\n",
       "      <td>0</td>\n",
       "    </tr>\n",
       "    <tr>\n",
       "      <th>2</th>\n",
       "      <td>p</td>\n",
       "      <td>1</td>\n",
       "      <td>0</td>\n",
       "    </tr>\n",
       "    <tr>\n",
       "      <th>3</th>\n",
       "      <td>p</td>\n",
       "      <td>1</td>\n",
       "      <td>0</td>\n",
       "    </tr>\n",
       "    <tr>\n",
       "      <th>4</th>\n",
       "      <td>g</td>\n",
       "      <td>0</td>\n",
       "      <td>1</td>\n",
       "    </tr>\n",
       "    <tr>\n",
       "      <th>5</th>\n",
       "      <td>b</td>\n",
       "      <td>0</td>\n",
       "      <td>0</td>\n",
       "    </tr>\n",
       "  </tbody>\n",
       "</table>\n",
       "</div>"
      ],
      "text/plain": [
       "  service  service_premium_binary  service_gold_binary\n",
       "#                                                     \n",
       "1       p                       1                    0\n",
       "2       p                       1                    0\n",
       "3       p                       1                    0\n",
       "4       g                       0                    1\n",
       "5       b                       0                    0"
      ]
     },
     "execution_count": 6,
     "metadata": {},
     "output_type": "execute_result"
    }
   ],
   "source": [
    "customers['service_premium_binary'] = \\\n",
    "customers.service.map({'b':0, 'p':1, 'g':0})\n",
    "customers['service_gold_binary'] = \\\n",
    "customers.service.map({'b':0, 'p':0, 'g':1})\n",
    "customers[['service', 'service_premium_binary', 'service_gold_binary']].head()"
   ]
  },
  {
   "cell_type": "markdown",
   "id": "3a7f24c4",
   "metadata": {},
   "source": [
    "19.3 Selecting the Factors"
   ]
  },
  {
   "cell_type": "code",
   "execution_count": 7,
   "id": "27a74af5",
   "metadata": {},
   "outputs": [],
   "source": [
    "import statsmodels as sm"
   ]
  },
  {
   "cell_type": "code",
   "execution_count": 8,
   "id": "03241395",
   "metadata": {},
   "outputs": [],
   "source": [
    "X = customers[['age', 'gender_binary', 'married_binary',\n",
    "               'service_premium_binary', 'service_gold_binary',\n",
    "               'contract_binary', 'billing_binary', 'due'\n",
    "             ]]"
   ]
  },
  {
   "cell_type": "code",
   "execution_count": 9,
   "id": "c4b41c81",
   "metadata": {},
   "outputs": [
    {
     "name": "stderr",
     "output_type": "stream",
     "text": [
      "/Users/dgroner/opt/anaconda3/lib/python3.9/site-packages/statsmodels/tsa/tsatools.py:142: FutureWarning: In a future version of pandas all arguments of concat except for the argument 'objs' will be keyword-only\n",
      "  x = pd.concat(x[::order], 1)\n"
     ]
    },
    {
     "data": {
      "text/plain": [
       "#\n",
       "1    1.0\n",
       "2    1.0\n",
       "3    1.0\n",
       "4    1.0\n",
       "5    1.0\n",
       "Name: const, dtype: float64"
      ]
     },
     "execution_count": 9,
     "metadata": {},
     "output_type": "execute_result"
    }
   ],
   "source": [
    "from statsmodels.api import add_constant\n",
    "X = add_constant(X)\n",
    "X['const'].head()"
   ]
  },
  {
   "cell_type": "code",
   "execution_count": 10,
   "id": "095b090c",
   "metadata": {},
   "outputs": [],
   "source": [
    "y = customers.churn"
   ]
  },
  {
   "cell_type": "code",
   "execution_count": 11,
   "id": "10029815",
   "metadata": {},
   "outputs": [
    {
     "name": "stdout",
     "output_type": "stream",
     "text": [
      "Optimization terminated successfully.\n",
      "         Current function value: 0.621024\n",
      "         Iterations 5\n"
     ]
    }
   ],
   "source": [
    "from statsmodels.api import Logit\n",
    "logreg1 = Logit(y, X).fit()"
   ]
  },
  {
   "cell_type": "code",
   "execution_count": 12,
   "id": "99547884",
   "metadata": {},
   "outputs": [
    {
     "data": {
      "text/html": [
       "<table class=\"simpletable\">\n",
       "<caption>Logit Regression Results</caption>\n",
       "<tr>\n",
       "  <th>Dep. Variable:</th>         <td>churn</td>      <th>  No. Observations:  </th>   <td> 10000</td>  \n",
       "</tr>\n",
       "<tr>\n",
       "  <th>Model:</th>                 <td>Logit</td>      <th>  Df Residuals:      </th>   <td>  9991</td>  \n",
       "</tr>\n",
       "<tr>\n",
       "  <th>Method:</th>                 <td>MLE</td>       <th>  Df Model:          </th>   <td>     8</td>  \n",
       "</tr>\n",
       "<tr>\n",
       "  <th>Date:</th>            <td>Thu, 21 Jul 2022</td> <th>  Pseudo R-squ.:     </th>   <td>0.04017</td> \n",
       "</tr>\n",
       "<tr>\n",
       "  <th>Time:</th>                <td>20:46:12</td>     <th>  Log-Likelihood:    </th>  <td> -6210.2</td> \n",
       "</tr>\n",
       "<tr>\n",
       "  <th>converged:</th>             <td>True</td>       <th>  LL-Null:           </th>  <td> -6470.1</td> \n",
       "</tr>\n",
       "<tr>\n",
       "  <th>Covariance Type:</th>     <td>nonrobust</td>    <th>  LLR p-value:       </th> <td>4.034e-107</td>\n",
       "</tr>\n",
       "</table>\n",
       "<table class=\"simpletable\">\n",
       "<tr>\n",
       "             <td></td>               <th>coef</th>     <th>std err</th>      <th>z</th>      <th>P>|z|</th>  <th>[0.025</th>    <th>0.975]</th>  \n",
       "</tr>\n",
       "<tr>\n",
       "  <th>const</th>                  <td>    0.1323</td> <td>    0.083</td> <td>    1.593</td> <td> 0.111</td> <td>   -0.030</td> <td>    0.295</td>\n",
       "</tr>\n",
       "<tr>\n",
       "  <th>age</th>                    <td>   -0.0035</td> <td>    0.001</td> <td>   -2.949</td> <td> 0.003</td> <td>   -0.006</td> <td>   -0.001</td>\n",
       "</tr>\n",
       "<tr>\n",
       "  <th>gender_binary</th>          <td>   -0.0192</td> <td>    0.043</td> <td>   -0.446</td> <td> 0.655</td> <td>   -0.104</td> <td>    0.065</td>\n",
       "</tr>\n",
       "<tr>\n",
       "  <th>married_binary</th>         <td>   -0.0988</td> <td>    0.044</td> <td>   -2.254</td> <td> 0.024</td> <td>   -0.185</td> <td>   -0.013</td>\n",
       "</tr>\n",
       "<tr>\n",
       "  <th>service_premium_binary</th> <td>   -0.2277</td> <td>    0.051</td> <td>   -4.452</td> <td> 0.000</td> <td>   -0.328</td> <td>   -0.127</td>\n",
       "</tr>\n",
       "<tr>\n",
       "  <th>service_gold_binary</th>    <td>   -0.4073</td> <td>    0.056</td> <td>   -7.279</td> <td> 0.000</td> <td>   -0.517</td> <td>   -0.298</td>\n",
       "</tr>\n",
       "<tr>\n",
       "  <th>contract_binary</th>        <td>   -0.6625</td> <td>    0.043</td> <td>  -15.301</td> <td> 0.000</td> <td>   -0.747</td> <td>   -0.578</td>\n",
       "</tr>\n",
       "<tr>\n",
       "  <th>billing_binary</th>         <td>   -0.3220</td> <td>    0.043</td> <td>   -7.458</td> <td> 0.000</td> <td>   -0.407</td> <td>   -0.237</td>\n",
       "</tr>\n",
       "<tr>\n",
       "  <th>due</th>                    <td>    0.4204</td> <td>    0.032</td> <td>   13.154</td> <td> 0.000</td> <td>    0.358</td> <td>    0.483</td>\n",
       "</tr>\n",
       "</table>"
      ],
      "text/plain": [
       "<class 'statsmodels.iolib.summary.Summary'>\n",
       "\"\"\"\n",
       "                           Logit Regression Results                           \n",
       "==============================================================================\n",
       "Dep. Variable:                  churn   No. Observations:                10000\n",
       "Model:                          Logit   Df Residuals:                     9991\n",
       "Method:                           MLE   Df Model:                            8\n",
       "Date:                Thu, 21 Jul 2022   Pseudo R-squ.:                 0.04017\n",
       "Time:                        20:46:12   Log-Likelihood:                -6210.2\n",
       "converged:                       True   LL-Null:                       -6470.1\n",
       "Covariance Type:            nonrobust   LLR p-value:                4.034e-107\n",
       "==========================================================================================\n",
       "                             coef    std err          z      P>|z|      [0.025      0.975]\n",
       "------------------------------------------------------------------------------------------\n",
       "const                      0.1323      0.083      1.593      0.111      -0.030       0.295\n",
       "age                       -0.0035      0.001     -2.949      0.003      -0.006      -0.001\n",
       "gender_binary             -0.0192      0.043     -0.446      0.655      -0.104       0.065\n",
       "married_binary            -0.0988      0.044     -2.254      0.024      -0.185      -0.013\n",
       "service_premium_binary    -0.2277      0.051     -4.452      0.000      -0.328      -0.127\n",
       "service_gold_binary       -0.4073      0.056     -7.279      0.000      -0.517      -0.298\n",
       "contract_binary           -0.6625      0.043    -15.301      0.000      -0.747      -0.578\n",
       "billing_binary            -0.3220      0.043     -7.458      0.000      -0.407      -0.237\n",
       "due                        0.4204      0.032     13.154      0.000       0.358       0.483\n",
       "==========================================================================================\n",
       "\"\"\""
      ]
     },
     "execution_count": 12,
     "metadata": {},
     "output_type": "execute_result"
    }
   ],
   "source": [
    "logreg1.summary()"
   ]
  },
  {
   "cell_type": "code",
   "execution_count": 13,
   "id": "a5523620",
   "metadata": {},
   "outputs": [],
   "source": [
    "X.drop('gender_binary', axis=1, inplace=True)"
   ]
  },
  {
   "cell_type": "code",
   "execution_count": 14,
   "id": "4ff81641",
   "metadata": {},
   "outputs": [
    {
     "name": "stdout",
     "output_type": "stream",
     "text": [
      "Optimization terminated successfully.\n",
      "         Current function value: 0.621034\n",
      "         Iterations 5\n"
     ]
    }
   ],
   "source": [
    "logreg2 = Logit(y, X).fit()"
   ]
  },
  {
   "cell_type": "code",
   "execution_count": 15,
   "id": "5c625660",
   "metadata": {},
   "outputs": [
    {
     "data": {
      "text/html": [
       "<table class=\"simpletable\">\n",
       "<caption>Logit Regression Results</caption>\n",
       "<tr>\n",
       "  <th>Dep. Variable:</th>         <td>churn</td>      <th>  No. Observations:  </th>   <td> 10000</td>  \n",
       "</tr>\n",
       "<tr>\n",
       "  <th>Model:</th>                 <td>Logit</td>      <th>  Df Residuals:      </th>   <td>  9992</td>  \n",
       "</tr>\n",
       "<tr>\n",
       "  <th>Method:</th>                 <td>MLE</td>       <th>  Df Model:          </th>   <td>     7</td>  \n",
       "</tr>\n",
       "<tr>\n",
       "  <th>Date:</th>            <td>Thu, 21 Jul 2022</td> <th>  Pseudo R-squ.:     </th>   <td>0.04015</td> \n",
       "</tr>\n",
       "<tr>\n",
       "  <th>Time:</th>                <td>20:46:12</td>     <th>  Log-Likelihood:    </th>  <td> -6210.3</td> \n",
       "</tr>\n",
       "<tr>\n",
       "  <th>converged:</th>             <td>True</td>       <th>  LL-Null:           </th>  <td> -6470.1</td> \n",
       "</tr>\n",
       "<tr>\n",
       "  <th>Covariance Type:</th>     <td>nonrobust</td>    <th>  LLR p-value:       </th> <td>4.976e-108</td>\n",
       "</tr>\n",
       "</table>\n",
       "<table class=\"simpletable\">\n",
       "<tr>\n",
       "             <td></td>               <th>coef</th>     <th>std err</th>      <th>z</th>      <th>P>|z|</th>  <th>[0.025</th>    <th>0.975]</th>  \n",
       "</tr>\n",
       "<tr>\n",
       "  <th>const</th>                  <td>    0.1229</td> <td>    0.080</td> <td>    1.530</td> <td> 0.126</td> <td>   -0.035</td> <td>    0.280</td>\n",
       "</tr>\n",
       "<tr>\n",
       "  <th>age</th>                    <td>   -0.0035</td> <td>    0.001</td> <td>   -2.957</td> <td> 0.003</td> <td>   -0.006</td> <td>   -0.001</td>\n",
       "</tr>\n",
       "<tr>\n",
       "  <th>married_binary</th>         <td>   -0.0989</td> <td>    0.044</td> <td>   -2.257</td> <td> 0.024</td> <td>   -0.185</td> <td>   -0.013</td>\n",
       "</tr>\n",
       "<tr>\n",
       "  <th>service_premium_binary</th> <td>   -0.2273</td> <td>    0.051</td> <td>   -4.446</td> <td> 0.000</td> <td>   -0.328</td> <td>   -0.127</td>\n",
       "</tr>\n",
       "<tr>\n",
       "  <th>service_gold_binary</th>    <td>   -0.4074</td> <td>    0.056</td> <td>   -7.281</td> <td> 0.000</td> <td>   -0.517</td> <td>   -0.298</td>\n",
       "</tr>\n",
       "<tr>\n",
       "  <th>contract_binary</th>        <td>   -0.6623</td> <td>    0.043</td> <td>  -15.298</td> <td> 0.000</td> <td>   -0.747</td> <td>   -0.577</td>\n",
       "</tr>\n",
       "<tr>\n",
       "  <th>billing_binary</th>         <td>   -0.3219</td> <td>    0.043</td> <td>   -7.457</td> <td> 0.000</td> <td>   -0.407</td> <td>   -0.237</td>\n",
       "</tr>\n",
       "<tr>\n",
       "  <th>due</th>                    <td>    0.4206</td> <td>    0.032</td> <td>   13.162</td> <td> 0.000</td> <td>    0.358</td> <td>    0.483</td>\n",
       "</tr>\n",
       "</table>"
      ],
      "text/plain": [
       "<class 'statsmodels.iolib.summary.Summary'>\n",
       "\"\"\"\n",
       "                           Logit Regression Results                           \n",
       "==============================================================================\n",
       "Dep. Variable:                  churn   No. Observations:                10000\n",
       "Model:                          Logit   Df Residuals:                     9992\n",
       "Method:                           MLE   Df Model:                            7\n",
       "Date:                Thu, 21 Jul 2022   Pseudo R-squ.:                 0.04015\n",
       "Time:                        20:46:12   Log-Likelihood:                -6210.3\n",
       "converged:                       True   LL-Null:                       -6470.1\n",
       "Covariance Type:            nonrobust   LLR p-value:                4.976e-108\n",
       "==========================================================================================\n",
       "                             coef    std err          z      P>|z|      [0.025      0.975]\n",
       "------------------------------------------------------------------------------------------\n",
       "const                      0.1229      0.080      1.530      0.126      -0.035       0.280\n",
       "age                       -0.0035      0.001     -2.957      0.003      -0.006      -0.001\n",
       "married_binary            -0.0989      0.044     -2.257      0.024      -0.185      -0.013\n",
       "service_premium_binary    -0.2273      0.051     -4.446      0.000      -0.328      -0.127\n",
       "service_gold_binary       -0.4074      0.056     -7.281      0.000      -0.517      -0.298\n",
       "contract_binary           -0.6623      0.043    -15.298      0.000      -0.747      -0.577\n",
       "billing_binary            -0.3219      0.043     -7.457      0.000      -0.407      -0.237\n",
       "due                        0.4206      0.032     13.162      0.000       0.358       0.483\n",
       "==========================================================================================\n",
       "\"\"\""
      ]
     },
     "execution_count": 15,
     "metadata": {},
     "output_type": "execute_result"
    }
   ],
   "source": [
    "logreg2.summary()"
   ]
  },
  {
   "cell_type": "markdown",
   "id": "a0ceacb0",
   "metadata": {},
   "source": [
    "19.4 Fitting the Model"
   ]
  },
  {
   "cell_type": "code",
   "execution_count": 16,
   "id": "d0d40a63",
   "metadata": {},
   "outputs": [],
   "source": [
    "from sklearn.model_selection import train_test_split\n",
    "X_train, X_test, y_train, y_test = train_test_split(X, y, random_state=0)"
   ]
  },
  {
   "cell_type": "code",
   "execution_count": 17,
   "id": "93c6d43b",
   "metadata": {},
   "outputs": [
    {
     "data": {
      "text/plain": [
       "0    65.0\n",
       "1    35.0\n",
       "Name: churn, dtype: float64"
      ]
     },
     "execution_count": 17,
     "metadata": {},
     "output_type": "execute_result"
    }
   ],
   "source": [
    "round(y_train.value_counts() / len(y_train) * 100)"
   ]
  },
  {
   "cell_type": "code",
   "execution_count": 18,
   "id": "2f8d4b11",
   "metadata": {},
   "outputs": [
    {
     "data": {
      "text/plain": [
       "LogisticRegression()"
      ]
     },
     "execution_count": 18,
     "metadata": {},
     "output_type": "execute_result"
    }
   ],
   "source": [
    "from sklearn.linear_model import LogisticRegression\n",
    "logisticRegression = LogisticRegression()\n",
    "logisticRegression.fit(X_train, y_train)"
   ]
  },
  {
   "cell_type": "code",
   "execution_count": 19,
   "id": "209421c6",
   "metadata": {},
   "outputs": [
    {
     "data": {
      "text/plain": [
       "array([0.08719319])"
      ]
     },
     "execution_count": 19,
     "metadata": {},
     "output_type": "execute_result"
    }
   ],
   "source": [
    "logisticRegression.intercept_"
   ]
  },
  {
   "cell_type": "code",
   "execution_count": 20,
   "id": "af2fcb75",
   "metadata": {},
   "outputs": [
    {
     "data": {
      "text/plain": [
       "array([[ 0.08748334, -0.0042766 , -0.11523966, -0.25986953, -0.41815953,\n",
       "        -0.64980243, -0.30744573,  0.43194216]])"
      ]
     },
     "execution_count": 20,
     "metadata": {},
     "output_type": "execute_result"
    }
   ],
   "source": [
    "logisticRegression.coef_"
   ]
  },
  {
   "cell_type": "markdown",
   "id": "16bd3c43",
   "metadata": {},
   "source": [
    "19.5 Predicting with the Model"
   ]
  },
  {
   "cell_type": "code",
   "execution_count": 21,
   "id": "cc883530",
   "metadata": {},
   "outputs": [],
   "source": [
    "logicPredict = logisticRegression.predict_proba(X_test)"
   ]
  },
  {
   "cell_type": "code",
   "execution_count": 22,
   "id": "aac125c4",
   "metadata": {},
   "outputs": [
    {
     "data": {
      "text/plain": [
       "array([[0.72596709, 0.27403291],\n",
       "       [0.78930094, 0.21069906],\n",
       "       [0.37359844, 0.62640156],\n",
       "       ...,\n",
       "       [0.64044751, 0.35955249],\n",
       "       [0.49482045, 0.50517955],\n",
       "       [0.58254648, 0.41745352]])"
      ]
     },
     "execution_count": 22,
     "metadata": {},
     "output_type": "execute_result"
    }
   ],
   "source": [
    "logicPredict"
   ]
  },
  {
   "cell_type": "code",
   "execution_count": 23,
   "id": "f73d7994",
   "metadata": {},
   "outputs": [],
   "source": [
    "y_test_proba = logicPredict[:,1]"
   ]
  },
  {
   "cell_type": "code",
   "execution_count": 24,
   "id": "6409dd9e",
   "metadata": {},
   "outputs": [
    {
     "data": {
      "text/plain": [
       "<AxesSubplot:>"
      ]
     },
     "execution_count": 24,
     "metadata": {},
     "output_type": "execute_result"
    },
    {
     "data": {
      "image/png": "[encoded data removed]",
      "text/plain": [
       "<Figure size 432x288 with 1 Axes>"
      ]
     },
     "metadata": {
      "needs_background": "light"
     },
     "output_type": "display_data"
    }
   ],
   "source": [
    "series = pd.Series(y_test_proba)\n",
    "series.hist(bins=20)"
   ]
  },
  {
   "cell_type": "markdown",
   "id": "b3724675",
   "metadata": {},
   "source": [
    "19.6 Reviewing Model Accuracy"
   ]
  },
  {
   "cell_type": "code",
   "execution_count": 25,
   "id": "880227fd",
   "metadata": {},
   "outputs": [
    {
     "data": {
      "text/plain": [
       "0    0\n",
       "1    0\n",
       "2    1\n",
       "3    0\n",
       "4    0\n",
       "dtype: int64"
      ]
     },
     "execution_count": 25,
     "metadata": {},
     "output_type": "execute_result"
    }
   ],
   "source": [
    "# for a cutoff, determine if prediction would be 0 or 1 for each observation\n",
    "cutoff = .5 # sample cutoff, can set to any value between 0 and 1\n",
    "y_test_proba_series = pd.Series(y_test_proba)\n",
    "y_test_pred = y_test_proba_series.apply(lambda x: 1 if x>cutoff else 0)\n",
    "y_test_pred.head(5)"
   ]
  },
  {
   "cell_type": "code",
   "execution_count": 26,
   "id": "2f80f2cd",
   "metadata": {},
   "outputs": [
    {
     "data": {
      "text/plain": [
       "array([[1516,  121],\n",
       "       [ 741,  122]])"
      ]
     },
     "execution_count": 26,
     "metadata": {},
     "output_type": "execute_result"
    }
   ],
   "source": [
    "# given truth and the model+cutoff prediction, generate a confusion matrix\n",
    "from sklearn.metrics import confusion_matrix\n",
    "cm = confusion_matrix(y_test, y_test_pred)\n",
    "cm"
   ]
  },
  {
   "cell_type": "code",
   "execution_count": 27,
   "id": "95e94276",
   "metadata": {},
   "outputs": [],
   "source": [
    "# convenience function for calculating any confusion matrix ratio\n",
    "def cmratio(correct, incorrect):\n",
    "   if correct+incorrect == 0: return 0\n",
    "   else: return correct / (correct+incorrect) * 100\n",
    "\n",
    "# display confusion matrix\n",
    "def displayCM(cm, w=4):\n",
    "   accuracy = cmratio(cm[0][0]+cm[1][1], cm[0][1]+cm[1][0])\n",
    "   sensitivity = cmratio(cm[1][1], cm[1][0])\n",
    "   specificity = cmratio(cm[0][0], cm[0][1])\n",
    "   precision = cmratio(cm[1][1], cm[0][1])\n",
    "   npv = cmratio(cm[0][0], cm[1][0])\n",
    "   fmt = str(w)+\"d\"\n",
    "   fmt1 = \".1f\"\n",
    "   print(' TP:', format(cm[1][1],fmt), 'FN:',\n",
    "      format(cm[1][0],fmt), format(sensitivity,fmt1))\n",
    "   print(' FP:', format(cm[0][1],fmt), 'TN:',\n",
    "      format(cm[0][0],fmt), format(specificity,fmt1))\n",
    "   print(' ', format(precision,fmt1), ' ', format(npv, fmt1))\n",
    "   print('Accuracy:', format(accuracy, fmt1))"
   ]
  },
  {
   "cell_type": "code",
   "execution_count": 28,
   "id": "f8067391",
   "metadata": {},
   "outputs": [
    {
     "name": "stdout",
     "output_type": "stream",
     "text": [
      " TP:  122 FN:  741 14.1\n",
      " FP:  121 TN: 1516 92.6\n",
      "  50.2   67.2\n",
      "Accuracy: 65.5\n"
     ]
    }
   ],
   "source": [
    "displayCM(cm)"
   ]
  },
  {
   "cell_type": "markdown",
   "id": "82dbdaa3",
   "metadata": {},
   "source": [
    "19.7 Setting the Model Threshold"
   ]
  },
  {
   "cell_type": "code",
   "execution_count": 29,
   "id": "1a48e49f",
   "metadata": {},
   "outputs": [
    {
     "name": "stdout",
     "output_type": "stream",
     "text": [
      "cutoff P&L ($)\n",
      "0.05   -19,811\n",
      "0.10   -19,811\n",
      "0.15   -19,811\n",
      "0.20   -11,873\n",
      "0.25    -1,830\n",
      "0.30     9,133\n",
      "0.35    13,567\n",
      "0.40    13,600\n",
      "0.45     9,108\n",
      "0.50     5,812\n",
      "0.55     4,663\n",
      "0.60     3,003\n",
      "0.65       970\n",
      "0.70       250\n",
      "0.75         0\n",
      "0.80         0\n",
      "0.85         0\n",
      "0.90         0\n",
      "0.95         0\n"
     ]
    }
   ],
   "source": [
    "# parametric analysis of cutoff vs. profit&loss\n",
    "from numpy import arange\n",
    "pls_x = []\n",
    "pls_y = []\n",
    "print('cutoff', 'P&L ($)')\n",
    "for cutoff in arange(.05, .99, .05):\n",
    "   y_test_pred = y_test_proba_series.apply(lambda x: 1 if x>cutoff else 0)\n",
    "   cm = confusion_matrix(y_test, y_test_pred)\n",
    "   # example P&L function based on model predict=1 column\n",
    "   # true + (retention): $500/customer, assume 25% re-subscribe (take offer)\n",
    "   # false + (unneeded discount): $120/customer, assume 60% take offer\n",
    "   pl = cm[1][1] * 500 * .25 -cm[0][1] * 120 * .65\n",
    "   print(format(cutoff,'.2f'), format(pl,'9,.0f'))\n",
    "   # store values for subsequent plotting\n",
    "   pls_x.append(cutoff)\n",
    "   pls_y.append(pl)"
   ]
  },
  {
   "cell_type": "code",
   "execution_count": 30,
   "id": "84a25d11",
   "metadata": {},
   "outputs": [
    {
     "data": {
      "text/plain": [
       "<AxesSubplot:xlabel='cutoff', ylabel='pl'>"
      ]
     },
     "execution_count": 30,
     "metadata": {},
     "output_type": "execute_result"
    },
    {
     "data": {
      "image/png": "[encoded data removed]",
      "text/plain": [
       "<Figure size 432x288 with 1 Axes>"
      ]
     },
     "metadata": {
      "needs_background": "light"
     },
     "output_type": "display_data"
    }
   ],
   "source": [
    "pl_df = pd.DataFrame({'cutoff':pls_x, 'pl':pls_y})\n",
    "pl_df.plot(x='cutoff', y='pl', kind='scatter')"
   ]
  },
  {
   "cell_type": "markdown",
   "id": "8ba62333",
   "metadata": {},
   "source": [
    "Code from: Python for Data & Analytics, (c) 2023 Rose River Software, LLC"
   ]
  }
 ],
 "metadata": {
  "colab": {
   "name": "p4da-19all.ipynb",
   "provenance": []
  },
  "kernelspec": {
   "display_name": "Python 3 (ipykernel)",
   "language": "python",
   "name": "python3"
  },
  "language_info": {
   "codemirror_mode": {
    "name": "ipython",
    "version": 3
   },
   "file_extension": ".py",
   "mimetype": "text/x-python",
   "name": "python",
   "nbconvert_exporter": "python",
   "pygments_lexer": "ipython3",
   "version": "3.9.7"
  }
 },
 "nbformat": 4,
 "nbformat_minor": 5
}
